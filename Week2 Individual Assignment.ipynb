{
 "cells": [
  {
   "cell_type": "markdown",
   "metadata": {
    "slideshow": {
     "slide_type": "slide"
    }
   },
   "source": [
    "# Week 2 individual addignment"
   ]
  },
  {
   "cell_type": "markdown",
   "metadata": {},
   "source": [
    "In this assignment, I will be looking at \"Covid Vaccine Tweets\n",
    "\" data by Kash from Kaggle. https://www.kaggle.com/kaushiksuresh147/covidvaccine-tweets"
   ]
  },
  {
   "cell_type": "markdown",
   "metadata": {},
   "source": [
    "## Importing Dataset and Pandas"
   ]
  },
  {
   "cell_type": "code",
   "execution_count": 1,
   "metadata": {},
   "outputs": [],
   "source": [
    "import geopandas as gpd"
   ]
  },
  {
   "cell_type": "code",
   "execution_count": 2,
   "metadata": {},
   "outputs": [],
   "source": [
    "CVD = gpd.read_file('data/covidvaccine.csv')"
   ]
  },
  {
   "cell_type": "markdown",
   "metadata": {},
   "source": [
    "## Determining Size of the data"
   ]
  },
  {
   "cell_type": "code",
   "execution_count": 3,
   "metadata": {},
   "outputs": [
    {
     "data": {
      "text/plain": [
       "(59396, 14)"
      ]
     },
     "execution_count": 3,
     "metadata": {},
     "output_type": "execute_result"
    }
   ],
   "source": [
    "CVD.shape"
   ]
  },
  {
   "cell_type": "markdown",
   "metadata": {},
   "source": [
    "This is a great amount of data, but for the sake of this assignment I'm going to shorten it."
   ]
  },
  {
   "cell_type": "code",
   "execution_count": 4,
   "metadata": {},
   "outputs": [
    {
     "data": {
      "text/plain": [
       "(5000, 14)"
      ]
     },
     "execution_count": 4,
     "metadata": {},
     "output_type": "execute_result"
    }
   ],
   "source": [
    "CVDSample = CVD.head(5000)\n",
    "CVDSample.shape"
   ]
  },
  {
   "cell_type": "markdown",
   "metadata": {},
   "source": [
    "## Taking a look at the data"
   ]
  },
  {
   "cell_type": "code",
   "execution_count": 5,
   "metadata": {},
   "outputs": [
    {
     "data": {
      "text/html": [
       "<div>\n",
       "<style scoped>\n",
       "    .dataframe tbody tr th:only-of-type {\n",
       "        vertical-align: middle;\n",
       "    }\n",
       "\n",
       "    .dataframe tbody tr th {\n",
       "        vertical-align: top;\n",
       "    }\n",
       "\n",
       "    .dataframe thead th {\n",
       "        text-align: right;\n",
       "    }\n",
       "</style>\n",
       "<table border=\"1\" class=\"dataframe\">\n",
       "  <thead>\n",
       "    <tr style=\"text-align: right;\">\n",
       "      <th></th>\n",
       "      <th>user_name</th>\n",
       "      <th>user_location</th>\n",
       "      <th>user_description</th>\n",
       "      <th>user_created</th>\n",
       "      <th>user_followers</th>\n",
       "      <th>user_friends</th>\n",
       "      <th>user_favourites</th>\n",
       "      <th>user_verified</th>\n",
       "      <th>date</th>\n",
       "      <th>text</th>\n",
       "      <th>hashtags</th>\n",
       "      <th>source</th>\n",
       "      <th>is_retweet</th>\n",
       "      <th>geometry</th>\n",
       "    </tr>\n",
       "  </thead>\n",
       "  <tbody>\n",
       "    <tr>\n",
       "      <th>0</th>\n",
       "      <td>MyNewsNE</td>\n",
       "      <td>Assam</td>\n",
       "      <td>MyNewsNE a dedicated multi-lingual media house...</td>\n",
       "      <td>24-05-2020 10:18</td>\n",
       "      <td>64</td>\n",
       "      <td>11</td>\n",
       "      <td>110</td>\n",
       "      <td>False</td>\n",
       "      <td>18-08-2020 12:55</td>\n",
       "      <td>Australia to Manufacture Covid-19 Vaccine and ...</td>\n",
       "      <td>['CovidVaccine']</td>\n",
       "      <td>Twitter Web App</td>\n",
       "      <td>False</td>\n",
       "      <td>None</td>\n",
       "    </tr>\n",
       "    <tr>\n",
       "      <th>1</th>\n",
       "      <td>Shubham Gupta</td>\n",
       "      <td></td>\n",
       "      <td>I will tell about all experiences of my life f...</td>\n",
       "      <td>14-08-2020 16:42</td>\n",
       "      <td>1</td>\n",
       "      <td>17</td>\n",
       "      <td>0</td>\n",
       "      <td>False</td>\n",
       "      <td>18-08-2020 12:55</td>\n",
       "      <td>#CoronavirusVaccine #CoronaVaccine #CovidVacci...</td>\n",
       "      <td>['CoronavirusVaccine', 'CoronaVaccine', 'Covid...</td>\n",
       "      <td>Twitter for Android</td>\n",
       "      <td>False</td>\n",
       "      <td>None</td>\n",
       "    </tr>\n",
       "    <tr>\n",
       "      <th>2</th>\n",
       "      <td>Journal of Infectiology</td>\n",
       "      <td></td>\n",
       "      <td>Journal of Infectiology (ISSN 2689-9981) is ac...</td>\n",
       "      <td>14-12-2017 07:07</td>\n",
       "      <td>143</td>\n",
       "      <td>566</td>\n",
       "      <td>8</td>\n",
       "      <td>False</td>\n",
       "      <td>18-08-2020 12:46</td>\n",
       "      <td>Deaths due to COVID-19 in Affected Countries\\n...</td>\n",
       "      <td></td>\n",
       "      <td>Twitter Web App</td>\n",
       "      <td>False</td>\n",
       "      <td>None</td>\n",
       "    </tr>\n",
       "    <tr>\n",
       "      <th>3</th>\n",
       "      <td>Zane</td>\n",
       "      <td></td>\n",
       "      <td>Fresher than you.</td>\n",
       "      <td>18-09-2019 11:01</td>\n",
       "      <td>29</td>\n",
       "      <td>25</td>\n",
       "      <td>620</td>\n",
       "      <td>False</td>\n",
       "      <td>18-08-2020 12:45</td>\n",
       "      <td>@Team_Subhashree @subhashreesotwe @iamrajchoco...</td>\n",
       "      <td></td>\n",
       "      <td>Twitter for Android</td>\n",
       "      <td>False</td>\n",
       "      <td>None</td>\n",
       "    </tr>\n",
       "    <tr>\n",
       "      <th>4</th>\n",
       "      <td>Ann-Maree O’Connor</td>\n",
       "      <td>Adelaide, South Australia</td>\n",
       "      <td>Retired university administrator. Melburnian b...</td>\n",
       "      <td>24-01-2013 14:53</td>\n",
       "      <td>83</td>\n",
       "      <td>497</td>\n",
       "      <td>10737</td>\n",
       "      <td>False</td>\n",
       "      <td>18-08-2020 12:45</td>\n",
       "      <td>@michellegrattan @ConversationEDU This is what...</td>\n",
       "      <td></td>\n",
       "      <td>Twitter Web App</td>\n",
       "      <td>False</td>\n",
       "      <td>None</td>\n",
       "    </tr>\n",
       "    <tr>\n",
       "      <th>5</th>\n",
       "      <td>Raunak Scherbatsky DankWorth</td>\n",
       "      <td></td>\n",
       "      <td>Neuro surgeon + Diagnostician.👨‍⚕️\\na good phy...</td>\n",
       "      <td>03-08-2020 13:39</td>\n",
       "      <td>3</td>\n",
       "      <td>27</td>\n",
       "      <td>918</td>\n",
       "      <td>False</td>\n",
       "      <td>18-08-2020 12:44</td>\n",
       "      <td>The Multi-system Inflammatory Syndrome-Childre...</td>\n",
       "      <td>['COVID19', 'COVID19India']</td>\n",
       "      <td>Twitter for Android</td>\n",
       "      <td>False</td>\n",
       "      <td>None</td>\n",
       "    </tr>\n",
       "    <tr>\n",
       "      <th>6</th>\n",
       "      <td>Rajesh Tadepalli</td>\n",
       "      <td>Hyderabad, India</td>\n",
       "      <td>Growth Initiatives @tech_mahindra | AIMer | Br...</td>\n",
       "      <td>07-05-2013 03:57</td>\n",
       "      <td>918</td>\n",
       "      <td>2561</td>\n",
       "      <td>31837</td>\n",
       "      <td>False</td>\n",
       "      <td>18-08-2020 12:34</td>\n",
       "      <td>@PrivilRodrigues @yatish57 @deepkaranahuja @sh...</td>\n",
       "      <td></td>\n",
       "      <td>Twitter for Android</td>\n",
       "      <td>False</td>\n",
       "      <td>None</td>\n",
       "    </tr>\n",
       "    <tr>\n",
       "      <th>7</th>\n",
       "      <td>AKisASocialisolationist wash yer damn hands</td>\n",
       "      <td>The Great Pacific Northwest</td>\n",
       "      <td>Iconoclast, cat person, soccer fan, textile &amp; ...</td>\n",
       "      <td>07-02-2015 07:24</td>\n",
       "      <td>2321</td>\n",
       "      <td>3236</td>\n",
       "      <td>264351</td>\n",
       "      <td>False</td>\n",
       "      <td>18-08-2020 12:30</td>\n",
       "      <td>@MSNBC Well, let’s qualify that: would anyone ...</td>\n",
       "      <td>['CovidVaccine']</td>\n",
       "      <td>Twitter for iPhone</td>\n",
       "      <td>False</td>\n",
       "      <td>None</td>\n",
       "    </tr>\n",
       "    <tr>\n",
       "      <th>8</th>\n",
       "      <td>Dr. Joseph Santoro</td>\n",
       "      <td>Washington, DC 20009</td>\n",
       "      <td>Neuro PhD, #Innovator, #Technologist, #Startup...</td>\n",
       "      <td>17-01-2009 21:10</td>\n",
       "      <td>19091</td>\n",
       "      <td>20986</td>\n",
       "      <td>128119</td>\n",
       "      <td>False</td>\n",
       "      <td>18-08-2020 12:15</td>\n",
       "      <td>Most countries, without the ability to make #V...</td>\n",
       "      <td>['Vaccines']</td>\n",
       "      <td>Hootsuite Inc.</td>\n",
       "      <td>False</td>\n",
       "      <td>None</td>\n",
       "    </tr>\n",
       "    <tr>\n",
       "      <th>9</th>\n",
       "      <td>VUMC OAP</td>\n",
       "      <td>Nashville, TN</td>\n",
       "      <td>Office of Advanced Practice, Vanderbilt Univer...</td>\n",
       "      <td>16-03-2017 20:22</td>\n",
       "      <td>282</td>\n",
       "      <td>96</td>\n",
       "      <td>788</td>\n",
       "      <td>False</td>\n",
       "      <td>18-08-2020 11:57</td>\n",
       "      <td>#DNA  zooms up charts in 1st week; hear #vacci...</td>\n",
       "      <td>['DNA', 'vaccines', 'pandemic', 'COVID19', 'Co...</td>\n",
       "      <td>Twitter Web App</td>\n",
       "      <td>False</td>\n",
       "      <td>None</td>\n",
       "    </tr>\n",
       "  </tbody>\n",
       "</table>\n",
       "</div>"
      ],
      "text/plain": [
       "                                     user_name                user_location  \\\n",
       "0                                     MyNewsNE                        Assam   \n",
       "1                                Shubham Gupta                                \n",
       "2                      Journal of Infectiology                                \n",
       "3                                         Zane                                \n",
       "4                           Ann-Maree O’Connor    Adelaide, South Australia   \n",
       "5                 Raunak Scherbatsky DankWorth                                \n",
       "6                             Rajesh Tadepalli             Hyderabad, India   \n",
       "7  AKisASocialisolationist wash yer damn hands  The Great Pacific Northwest   \n",
       "8                           Dr. Joseph Santoro         Washington, DC 20009   \n",
       "9                                     VUMC OAP                Nashville, TN   \n",
       "\n",
       "                                    user_description      user_created  \\\n",
       "0  MyNewsNE a dedicated multi-lingual media house...  24-05-2020 10:18   \n",
       "1  I will tell about all experiences of my life f...  14-08-2020 16:42   \n",
       "2  Journal of Infectiology (ISSN 2689-9981) is ac...  14-12-2017 07:07   \n",
       "3                                  Fresher than you.  18-09-2019 11:01   \n",
       "4  Retired university administrator. Melburnian b...  24-01-2013 14:53   \n",
       "5  Neuro surgeon + Diagnostician.👨‍⚕️\\na good phy...  03-08-2020 13:39   \n",
       "6  Growth Initiatives @tech_mahindra | AIMer | Br...  07-05-2013 03:57   \n",
       "7  Iconoclast, cat person, soccer fan, textile & ...  07-02-2015 07:24   \n",
       "8  Neuro PhD, #Innovator, #Technologist, #Startup...  17-01-2009 21:10   \n",
       "9  Office of Advanced Practice, Vanderbilt Univer...  16-03-2017 20:22   \n",
       "\n",
       "  user_followers user_friends user_favourites user_verified              date  \\\n",
       "0             64           11             110         False  18-08-2020 12:55   \n",
       "1              1           17               0         False  18-08-2020 12:55   \n",
       "2            143          566               8         False  18-08-2020 12:46   \n",
       "3             29           25             620         False  18-08-2020 12:45   \n",
       "4             83          497           10737         False  18-08-2020 12:45   \n",
       "5              3           27             918         False  18-08-2020 12:44   \n",
       "6            918         2561           31837         False  18-08-2020 12:34   \n",
       "7           2321         3236          264351         False  18-08-2020 12:30   \n",
       "8          19091        20986          128119         False  18-08-2020 12:15   \n",
       "9            282           96             788         False  18-08-2020 11:57   \n",
       "\n",
       "                                                text  \\\n",
       "0  Australia to Manufacture Covid-19 Vaccine and ...   \n",
       "1  #CoronavirusVaccine #CoronaVaccine #CovidVacci...   \n",
       "2  Deaths due to COVID-19 in Affected Countries\\n...   \n",
       "3  @Team_Subhashree @subhashreesotwe @iamrajchoco...   \n",
       "4  @michellegrattan @ConversationEDU This is what...   \n",
       "5  The Multi-system Inflammatory Syndrome-Childre...   \n",
       "6  @PrivilRodrigues @yatish57 @deepkaranahuja @sh...   \n",
       "7  @MSNBC Well, let’s qualify that: would anyone ...   \n",
       "8  Most countries, without the ability to make #V...   \n",
       "9  #DNA  zooms up charts in 1st week; hear #vacci...   \n",
       "\n",
       "                                            hashtags               source  \\\n",
       "0                                   ['CovidVaccine']      Twitter Web App   \n",
       "1  ['CoronavirusVaccine', 'CoronaVaccine', 'Covid...  Twitter for Android   \n",
       "2                                                         Twitter Web App   \n",
       "3                                                     Twitter for Android   \n",
       "4                                                         Twitter Web App   \n",
       "5                        ['COVID19', 'COVID19India']  Twitter for Android   \n",
       "6                                                     Twitter for Android   \n",
       "7                                   ['CovidVaccine']   Twitter for iPhone   \n",
       "8                                       ['Vaccines']       Hootsuite Inc.   \n",
       "9  ['DNA', 'vaccines', 'pandemic', 'COVID19', 'Co...      Twitter Web App   \n",
       "\n",
       "  is_retweet geometry  \n",
       "0      False     None  \n",
       "1      False     None  \n",
       "2      False     None  \n",
       "3      False     None  \n",
       "4      False     None  \n",
       "5      False     None  \n",
       "6      False     None  \n",
       "7      False     None  \n",
       "8      False     None  \n",
       "9      False     None  "
      ]
     },
     "execution_count": 5,
     "metadata": {},
     "output_type": "execute_result"
    }
   ],
   "source": [
    "CVDSample.head(10)"
   ]
  },
  {
   "cell_type": "code",
   "execution_count": 14,
   "metadata": {},
   "outputs": [
    {
     "name": "stdout",
     "output_type": "stream",
     "text": [
      "<class 'geopandas.geodataframe.GeoDataFrame'>\n",
      "RangeIndex: 5000 entries, 0 to 4999\n",
      "Data columns (total 14 columns):\n",
      " #   Column            Non-Null Count  Dtype   \n",
      "---  ------            --------------  -----   \n",
      " 0   user_name         5000 non-null   object  \n",
      " 1   user_location     5000 non-null   object  \n",
      " 2   user_description  5000 non-null   object  \n",
      " 3   user_created      5000 non-null   object  \n",
      " 4   user_followers    5000 non-null   object  \n",
      " 5   user_friends      5000 non-null   object  \n",
      " 6   user_favourites   5000 non-null   object  \n",
      " 7   user_verified     5000 non-null   object  \n",
      " 8   date              5000 non-null   object  \n",
      " 9   text              5000 non-null   object  \n",
      " 10  hashtags          5000 non-null   object  \n",
      " 11  source            5000 non-null   object  \n",
      " 12  is_retweet        5000 non-null   object  \n",
      " 13  geometry          0 non-null      geometry\n",
      "dtypes: geometry(1), object(13)\n",
      "memory usage: 547.0+ KB\n"
     ]
    }
   ],
   "source": [
    "CVDSample.info()"
   ]
  },
  {
   "cell_type": "code",
   "execution_count": 51,
   "metadata": {},
   "outputs": [
    {
     "data": {
      "text/plain": [
       "0         64\n",
       "1          1\n",
       "2        143\n",
       "3         29\n",
       "4         83\n",
       "        ... \n",
       "4995      39\n",
       "4996    1595\n",
       "4997     331\n",
       "4998      61\n",
       "4999      24\n",
       "Name: user_followers, Length: 5000, dtype: object"
      ]
     },
     "execution_count": 51,
     "metadata": {},
     "output_type": "execute_result"
    }
   ],
   "source": [
    "CVDSample['user_followers']"
   ]
  },
  {
   "cell_type": "code",
   "execution_count": 71,
   "metadata": {},
   "outputs": [
    {
     "data": {
      "text/plain": [
       "0         64\n",
       "1          1\n",
       "2        143\n",
       "3         29\n",
       "4         83\n",
       "        ... \n",
       "4995      39\n",
       "4996    1595\n",
       "4997     331\n",
       "4998      61\n",
       "4999      24\n",
       "Name: user_followers, Length: 5000, dtype: object"
      ]
     },
     "execution_count": 71,
     "metadata": {},
     "output_type": "execute_result"
    }
   ],
   "source": [
    "CVDFollowers = CVDSample['user_followers']\n",
    "CVDFollowers"
   ]
  },
  {
   "cell_type": "markdown",
   "metadata": {},
   "source": [
    "With this, we can get a feel for where the most people are"
   ]
  },
  {
   "cell_type": "code",
   "execution_count": 72,
   "metadata": {},
   "outputs": [],
   "source": [
    "CVDFollowers = CVDLocation.reset_index()"
   ]
  },
  {
   "cell_type": "code",
   "execution_count": 73,
   "metadata": {},
   "outputs": [
    {
     "data": {
      "text/plain": [
       "['index', 'Index', 'Followers']"
      ]
     },
     "execution_count": 73,
     "metadata": {},
     "output_type": "execute_result"
    }
   ],
   "source": [
    "CVDFollowers.columns.to_list()"
   ]
  },
  {
   "cell_type": "code",
   "execution_count": 74,
   "metadata": {},
   "outputs": [],
   "source": [
    "CVDFollowers = CVDLocation.astype(float)"
   ]
  },
  {
   "cell_type": "markdown",
   "metadata": {},
   "source": [
    "convert CVDFollowers values to float"
   ]
  },
  {
   "cell_type": "code",
   "execution_count": 75,
   "metadata": {},
   "outputs": [],
   "source": [
    "CVDLocation.columns = ['Index', 'Followers']"
   ]
  },
  {
   "cell_type": "code",
   "execution_count": 76,
   "metadata": {},
   "outputs": [
    {
     "data": {
      "text/html": [
       "<div>\n",
       "<style scoped>\n",
       "    .dataframe tbody tr th:only-of-type {\n",
       "        vertical-align: middle;\n",
       "    }\n",
       "\n",
       "    .dataframe tbody tr th {\n",
       "        vertical-align: top;\n",
       "    }\n",
       "\n",
       "    .dataframe thead th {\n",
       "        text-align: right;\n",
       "    }\n",
       "</style>\n",
       "<table border=\"1\" class=\"dataframe\">\n",
       "  <thead>\n",
       "    <tr style=\"text-align: right;\">\n",
       "      <th></th>\n",
       "      <th>Index</th>\n",
       "      <th>Followers</th>\n",
       "    </tr>\n",
       "  </thead>\n",
       "  <tbody>\n",
       "    <tr>\n",
       "      <th>0</th>\n",
       "      <td>0.0</td>\n",
       "      <td>64.0</td>\n",
       "    </tr>\n",
       "    <tr>\n",
       "      <th>1</th>\n",
       "      <td>1.0</td>\n",
       "      <td>1.0</td>\n",
       "    </tr>\n",
       "    <tr>\n",
       "      <th>2</th>\n",
       "      <td>2.0</td>\n",
       "      <td>143.0</td>\n",
       "    </tr>\n",
       "    <tr>\n",
       "      <th>3</th>\n",
       "      <td>3.0</td>\n",
       "      <td>29.0</td>\n",
       "    </tr>\n",
       "    <tr>\n",
       "      <th>4</th>\n",
       "      <td>4.0</td>\n",
       "      <td>83.0</td>\n",
       "    </tr>\n",
       "    <tr>\n",
       "      <th>...</th>\n",
       "      <td>...</td>\n",
       "      <td>...</td>\n",
       "    </tr>\n",
       "    <tr>\n",
       "      <th>4995</th>\n",
       "      <td>4995.0</td>\n",
       "      <td>39.0</td>\n",
       "    </tr>\n",
       "    <tr>\n",
       "      <th>4996</th>\n",
       "      <td>4996.0</td>\n",
       "      <td>1595.0</td>\n",
       "    </tr>\n",
       "    <tr>\n",
       "      <th>4997</th>\n",
       "      <td>4997.0</td>\n",
       "      <td>331.0</td>\n",
       "    </tr>\n",
       "    <tr>\n",
       "      <th>4998</th>\n",
       "      <td>4998.0</td>\n",
       "      <td>61.0</td>\n",
       "    </tr>\n",
       "    <tr>\n",
       "      <th>4999</th>\n",
       "      <td>4999.0</td>\n",
       "      <td>24.0</td>\n",
       "    </tr>\n",
       "  </tbody>\n",
       "</table>\n",
       "<p>5000 rows × 2 columns</p>\n",
       "</div>"
      ],
      "text/plain": [
       "       Index  Followers\n",
       "0        0.0       64.0\n",
       "1        1.0        1.0\n",
       "2        2.0      143.0\n",
       "3        3.0       29.0\n",
       "4        4.0       83.0\n",
       "...      ...        ...\n",
       "4995  4995.0       39.0\n",
       "4996  4996.0     1595.0\n",
       "4997  4997.0      331.0\n",
       "4998  4998.0       61.0\n",
       "4999  4999.0       24.0\n",
       "\n",
       "[5000 rows x 2 columns]"
      ]
     },
     "execution_count": 76,
     "metadata": {},
     "output_type": "execute_result"
    }
   ],
   "source": [
    "CVDFollowers"
   ]
  },
  {
   "cell_type": "markdown",
   "metadata": {},
   "source": [
    "Lets now make a graph of location to count"
   ]
  },
  {
   "cell_type": "code",
   "execution_count": 78,
   "metadata": {},
   "outputs": [
    {
     "data": {
      "text/plain": [
       "<matplotlib.axes._subplots.AxesSubplot at 0x7fbb780bef10>"
      ]
     },
     "execution_count": 78,
     "metadata": {},
     "output_type": "execute_result"
    },
    {
     "data": {
      "image/png": "[encoded data removed]",
      "text/plain": [
       "<Figure size 432x288 with 1 Axes>"
      ]
     },
     "metadata": {
      "needs_background": "light"
     },
     "output_type": "display_data"
    }
   ],
   "source": [
    "CVDFollowers.plot() "
   ]
  },
  {
   "cell_type": "markdown",
   "metadata": {},
   "source": [
    "## Next lets see which country has the most number of tweets"
   ]
  },
  {
   "cell_type": "markdown",
   "metadata": {},
   "source": [
    "Note that there is a lot of bias here because some people may not disclose their location. Others may have spelled it wrong."
   ]
  },
  {
   "cell_type": "code",
   "execution_count": 82,
   "metadata": {},
   "outputs": [
    {
     "data": {
      "text/plain": [
       "0                                Assam\n",
       "1                                     \n",
       "2                                     \n",
       "3                                     \n",
       "4            Adelaide, South Australia\n",
       "                     ...              \n",
       "4995                          Maryland\n",
       "4996    London ✈ wherever I need to be\n",
       "4997                              Ohio\n",
       "4998                           Arizona\n",
       "4999                     Palo Alto, CA\n",
       "Name: user_location, Length: 5000, dtype: object"
      ]
     },
     "execution_count": 82,
     "metadata": {},
     "output_type": "execute_result"
    }
   ],
   "source": [
    "CVDSample['user_location']"
   ]
  },
  {
   "cell_type": "code",
   "execution_count": 92,
   "metadata": {},
   "outputs": [
    {
     "data": {
      "text/plain": [
       "                           1200\n",
       "India                       292\n",
       "Mumbai, India               101\n",
       "New Delhi, India             93\n",
       "United States                55\n",
       "                           ... \n",
       "Tucson, Arizona               1\n",
       "Surat || Mumbai               1\n",
       "Earth🌎🇵🇷🇺🇸🇩🇪🇪🇦🇨🇦              1\n",
       "Vododara, India               1\n",
       "ÜT: 18.955478,72.798771       1\n",
       "Name: user_location, Length: 1507, dtype: int64"
      ]
     },
     "execution_count": 92,
     "metadata": {},
     "output_type": "execute_result"
    }
   ],
   "source": [
    "CVDLocation = CVDSample['user_location'].value_counts()\n",
    "CVDLocation"
   ]
  },
  {
   "cell_type": "markdown",
   "metadata": {},
   "source": [
    "This gives us an idea that India takes up a majority of the tweet samples. This may be a potential bias in the Data."
   ]
  },
  {
   "cell_type": "markdown",
   "metadata": {},
   "source": [
    "## Cleaning up the data"
   ]
  },
  {
   "cell_type": "markdown",
   "metadata": {},
   "source": [
    "user_friends, user_favourites, is_retweet, geometry is data that is irrelevant to this particular dataset. Therefore we will filter it out."
   ]
  },
  {
   "cell_type": "code",
   "execution_count": 107,
   "metadata": {},
   "outputs": [
    {
     "data": {
      "text/html": [
       "<div>\n",
       "<style scoped>\n",
       "    .dataframe tbody tr th:only-of-type {\n",
       "        vertical-align: middle;\n",
       "    }\n",
       "\n",
       "    .dataframe tbody tr th {\n",
       "        vertical-align: top;\n",
       "    }\n",
       "\n",
       "    .dataframe thead th {\n",
       "        text-align: right;\n",
       "    }\n",
       "</style>\n",
       "<table border=\"1\" class=\"dataframe\">\n",
       "  <thead>\n",
       "    <tr style=\"text-align: right;\">\n",
       "      <th></th>\n",
       "      <th>user_name</th>\n",
       "      <th>user_location</th>\n",
       "      <th>user_description</th>\n",
       "      <th>user_created</th>\n",
       "      <th>user_followers</th>\n",
       "      <th>user_verified</th>\n",
       "      <th>date</th>\n",
       "      <th>text</th>\n",
       "      <th>hashtags</th>\n",
       "      <th>source</th>\n",
       "    </tr>\n",
       "  </thead>\n",
       "  <tbody>\n",
       "    <tr>\n",
       "      <th>0</th>\n",
       "      <td>MyNewsNE</td>\n",
       "      <td>Assam</td>\n",
       "      <td>MyNewsNE a dedicated multi-lingual media house...</td>\n",
       "      <td>24-05-2020 10:18</td>\n",
       "      <td>64</td>\n",
       "      <td>False</td>\n",
       "      <td>18-08-2020 12:55</td>\n",
       "      <td>Australia to Manufacture Covid-19 Vaccine and ...</td>\n",
       "      <td>['CovidVaccine']</td>\n",
       "      <td>Twitter Web App</td>\n",
       "    </tr>\n",
       "    <tr>\n",
       "      <th>1</th>\n",
       "      <td>Shubham Gupta</td>\n",
       "      <td></td>\n",
       "      <td>I will tell about all experiences of my life f...</td>\n",
       "      <td>14-08-2020 16:42</td>\n",
       "      <td>1</td>\n",
       "      <td>False</td>\n",
       "      <td>18-08-2020 12:55</td>\n",
       "      <td>#CoronavirusVaccine #CoronaVaccine #CovidVacci...</td>\n",
       "      <td>['CoronavirusVaccine', 'CoronaVaccine', 'Covid...</td>\n",
       "      <td>Twitter for Android</td>\n",
       "    </tr>\n",
       "    <tr>\n",
       "      <th>2</th>\n",
       "      <td>Journal of Infectiology</td>\n",
       "      <td></td>\n",
       "      <td>Journal of Infectiology (ISSN 2689-9981) is ac...</td>\n",
       "      <td>14-12-2017 07:07</td>\n",
       "      <td>143</td>\n",
       "      <td>False</td>\n",
       "      <td>18-08-2020 12:46</td>\n",
       "      <td>Deaths due to COVID-19 in Affected Countries\\n...</td>\n",
       "      <td></td>\n",
       "      <td>Twitter Web App</td>\n",
       "    </tr>\n",
       "    <tr>\n",
       "      <th>3</th>\n",
       "      <td>Zane</td>\n",
       "      <td></td>\n",
       "      <td>Fresher than you.</td>\n",
       "      <td>18-09-2019 11:01</td>\n",
       "      <td>29</td>\n",
       "      <td>False</td>\n",
       "      <td>18-08-2020 12:45</td>\n",
       "      <td>@Team_Subhashree @subhashreesotwe @iamrajchoco...</td>\n",
       "      <td></td>\n",
       "      <td>Twitter for Android</td>\n",
       "    </tr>\n",
       "    <tr>\n",
       "      <th>4</th>\n",
       "      <td>Ann-Maree O’Connor</td>\n",
       "      <td>Adelaide, South Australia</td>\n",
       "      <td>Retired university administrator. Melburnian b...</td>\n",
       "      <td>24-01-2013 14:53</td>\n",
       "      <td>83</td>\n",
       "      <td>False</td>\n",
       "      <td>18-08-2020 12:45</td>\n",
       "      <td>@michellegrattan @ConversationEDU This is what...</td>\n",
       "      <td></td>\n",
       "      <td>Twitter Web App</td>\n",
       "    </tr>\n",
       "    <tr>\n",
       "      <th>...</th>\n",
       "      <td>...</td>\n",
       "      <td>...</td>\n",
       "      <td>...</td>\n",
       "      <td>...</td>\n",
       "      <td>...</td>\n",
       "      <td>...</td>\n",
       "      <td>...</td>\n",
       "      <td>...</td>\n",
       "      <td>...</td>\n",
       "      <td>...</td>\n",
       "    </tr>\n",
       "    <tr>\n",
       "      <th>4995</th>\n",
       "      <td>Ms. Barnes</td>\n",
       "      <td>Maryland</td>\n",
       "      <td>UNITE AND VOTE 2020!!!!! #BlueWave2020 #KnowYo...</td>\n",
       "      <td>06-06-2010 01:48</td>\n",
       "      <td>39</td>\n",
       "      <td>False</td>\n",
       "      <td>08-09-2020 20:35</td>\n",
       "      <td>What you don’t know about schools #COVIDー19 #C...</td>\n",
       "      <td>['COVIDー19', 'CovidVaccine']</td>\n",
       "      <td>Twitter for iPhone</td>\n",
       "    </tr>\n",
       "    <tr>\n",
       "      <th>4996</th>\n",
       "      <td>Samy Ahmar</td>\n",
       "      <td>London ✈ wherever I need to be</td>\n",
       "      <td>Head of Health @SaveChildrenUK, Global Health,...</td>\n",
       "      <td>05-03-2011 22:40</td>\n",
       "      <td>1595</td>\n",
       "      <td>False</td>\n",
       "      <td>08-09-2020 20:33</td>\n",
       "      <td>This pledge by 9 global pharma companies NOT t...</td>\n",
       "      <td></td>\n",
       "      <td>Twitter for Android</td>\n",
       "    </tr>\n",
       "    <tr>\n",
       "      <th>4997</th>\n",
       "      <td>unSettled</td>\n",
       "      <td>Ohio</td>\n",
       "      <td>Observational Existentialist Survivor (all wor...</td>\n",
       "      <td>19-01-2013 22:34</td>\n",
       "      <td>331</td>\n",
       "      <td>False</td>\n",
       "      <td>08-09-2020 20:28</td>\n",
       "      <td>@CaslerNoel @FLOTUS Sure let them hurry up wit...</td>\n",
       "      <td>['covidvaccine']</td>\n",
       "      <td>Twitter for iPad</td>\n",
       "    </tr>\n",
       "    <tr>\n",
       "      <th>4998</th>\n",
       "      <td>Jewel Flower Design</td>\n",
       "      <td>Arizona</td>\n",
       "      <td>Artisan of handcrated jewelry</td>\n",
       "      <td>10-08-2014 02:50</td>\n",
       "      <td>61</td>\n",
       "      <td>False</td>\n",
       "      <td>08-09-2020 20:22</td>\n",
       "      <td>@TuckerCarlson Please watch this video from th...</td>\n",
       "      <td></td>\n",
       "      <td>Twitter for iPhone</td>\n",
       "    </tr>\n",
       "    <tr>\n",
       "      <th>4999</th>\n",
       "      <td>Trump Whines-A-Lot | Thug From The Dark Shadows</td>\n",
       "      <td>Palo Alto, CA</td>\n",
       "      <td>#BidenHarris #BidenHarris2020 #TeamJoe #TrumpF...</td>\n",
       "      <td>06-08-2018 18:56</td>\n",
       "      <td>24</td>\n",
       "      <td>False</td>\n",
       "      <td>08-09-2020 20:11</td>\n",
       "      <td>.@PressSec Have you been collecting those ader...</td>\n",
       "      <td></td>\n",
       "      <td>Twitter for iPhone</td>\n",
       "    </tr>\n",
       "  </tbody>\n",
       "</table>\n",
       "<p>5000 rows × 10 columns</p>\n",
       "</div>"
      ],
      "text/plain": [
       "                                            user_name  \\\n",
       "0                                            MyNewsNE   \n",
       "1                                       Shubham Gupta   \n",
       "2                             Journal of Infectiology   \n",
       "3                                                Zane   \n",
       "4                                  Ann-Maree O’Connor   \n",
       "...                                               ...   \n",
       "4995                                       Ms. Barnes   \n",
       "4996                                       Samy Ahmar   \n",
       "4997                                        unSettled   \n",
       "4998                              Jewel Flower Design   \n",
       "4999  Trump Whines-A-Lot | Thug From The Dark Shadows   \n",
       "\n",
       "                       user_location  \\\n",
       "0                              Assam   \n",
       "1                                      \n",
       "2                                      \n",
       "3                                      \n",
       "4          Adelaide, South Australia   \n",
       "...                              ...   \n",
       "4995                        Maryland   \n",
       "4996  London ✈ wherever I need to be   \n",
       "4997                            Ohio   \n",
       "4998                         Arizona   \n",
       "4999                   Palo Alto, CA   \n",
       "\n",
       "                                       user_description      user_created  \\\n",
       "0     MyNewsNE a dedicated multi-lingual media house...  24-05-2020 10:18   \n",
       "1     I will tell about all experiences of my life f...  14-08-2020 16:42   \n",
       "2     Journal of Infectiology (ISSN 2689-9981) is ac...  14-12-2017 07:07   \n",
       "3                                     Fresher than you.  18-09-2019 11:01   \n",
       "4     Retired university administrator. Melburnian b...  24-01-2013 14:53   \n",
       "...                                                 ...               ...   \n",
       "4995  UNITE AND VOTE 2020!!!!! #BlueWave2020 #KnowYo...  06-06-2010 01:48   \n",
       "4996  Head of Health @SaveChildrenUK, Global Health,...  05-03-2011 22:40   \n",
       "4997  Observational Existentialist Survivor (all wor...  19-01-2013 22:34   \n",
       "4998                      Artisan of handcrated jewelry  10-08-2014 02:50   \n",
       "4999  #BidenHarris #BidenHarris2020 #TeamJoe #TrumpF...  06-08-2018 18:56   \n",
       "\n",
       "     user_followers user_verified              date  \\\n",
       "0                64         False  18-08-2020 12:55   \n",
       "1                 1         False  18-08-2020 12:55   \n",
       "2               143         False  18-08-2020 12:46   \n",
       "3                29         False  18-08-2020 12:45   \n",
       "4                83         False  18-08-2020 12:45   \n",
       "...             ...           ...               ...   \n",
       "4995             39         False  08-09-2020 20:35   \n",
       "4996           1595         False  08-09-2020 20:33   \n",
       "4997            331         False  08-09-2020 20:28   \n",
       "4998             61         False  08-09-2020 20:22   \n",
       "4999             24         False  08-09-2020 20:11   \n",
       "\n",
       "                                                   text  \\\n",
       "0     Australia to Manufacture Covid-19 Vaccine and ...   \n",
       "1     #CoronavirusVaccine #CoronaVaccine #CovidVacci...   \n",
       "2     Deaths due to COVID-19 in Affected Countries\\n...   \n",
       "3     @Team_Subhashree @subhashreesotwe @iamrajchoco...   \n",
       "4     @michellegrattan @ConversationEDU This is what...   \n",
       "...                                                 ...   \n",
       "4995  What you don’t know about schools #COVIDー19 #C...   \n",
       "4996  This pledge by 9 global pharma companies NOT t...   \n",
       "4997  @CaslerNoel @FLOTUS Sure let them hurry up wit...   \n",
       "4998  @TuckerCarlson Please watch this video from th...   \n",
       "4999  .@PressSec Have you been collecting those ader...   \n",
       "\n",
       "                                               hashtags               source  \n",
       "0                                      ['CovidVaccine']      Twitter Web App  \n",
       "1     ['CoronavirusVaccine', 'CoronaVaccine', 'Covid...  Twitter for Android  \n",
       "2                                                            Twitter Web App  \n",
       "3                                                        Twitter for Android  \n",
       "4                                                            Twitter Web App  \n",
       "...                                                 ...                  ...  \n",
       "4995                       ['COVIDー19', 'CovidVaccine']   Twitter for iPhone  \n",
       "4996                                                     Twitter for Android  \n",
       "4997                                   ['covidvaccine']     Twitter for iPad  \n",
       "4998                                                      Twitter for iPhone  \n",
       "4999                                                      Twitter for iPhone  \n",
       "\n",
       "[5000 rows x 10 columns]"
      ]
     },
     "execution_count": 107,
     "metadata": {},
     "output_type": "execute_result"
    }
   ],
   "source": [
    "unneeded_colums=['user_friends', 'user_favourites', 'is_retweet', 'geometry']\n",
    "FilteredCVDSample = CVDSample.drop(columns = unneeded_colums)\n",
    "FilteredCVDSample"
   ]
  },
  {
   "cell_type": "code",
   "execution_count": null,
   "metadata": {},
   "outputs": [],
   "source": []
  }
 ],
 "metadata": {
  "kernelspec": {
   "display_name": "Python 3",
   "language": "python",
   "name": "python3"
  },
  "language_info": {
   "codemirror_mode": {
    "name": "ipython",
    "version": 3
   },
   "file_extension": ".py",
   "mimetype": "text/x-python",
   "name": "python",
   "nbconvert_exporter": "python",
   "pygments_lexer": "ipython3",
   "version": "3.8.5"
  },
  "toc": {
   "base_numbering": 1,
   "nav_menu": {},
   "number_sections": true,
   "sideBar": true,
   "skip_h1_title": false,
   "title_cell": "Table of Contents",
   "title_sidebar": "Contents",
   "toc_cell": false,
   "toc_position": {},
   "toc_section_display": true,
   "toc_window_display": false
  }
 },
 "nbformat": 4,
 "nbformat_minor": 4
}
